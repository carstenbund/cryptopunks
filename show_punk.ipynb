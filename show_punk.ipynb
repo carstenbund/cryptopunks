{
 "cells": [
  {
   "cell_type": "code",
   "execution_count": 1,
   "metadata": {},
   "outputs": [
    {
     "name": "stdout",
     "output_type": "stream",
     "text": [
      "--2021-01-17 11:07:59--  https://www.larvalabs.com/public/images/cryptopunks/punks.png\n",
      "Resolving www.larvalabs.com (www.larvalabs.com)... 172.67.190.245, 104.21.60.26, 2606:4700:3037::ac43:bef5, ...\n",
      "Connecting to www.larvalabs.com (www.larvalabs.com)|172.67.190.245|:443... connected.\n",
      "HTTP request sent, awaiting response... 200 OK\n",
      "Length: 848174 (828K) [image/png]\n",
      "Saving to: ‘punks.png.1’\n",
      "\n",
      "punks.png.1         100%[===================>] 828.29K  --.-KB/s    in 0.07s   \n",
      "\n",
      "2021-01-17 11:07:59 (11.1 MB/s) - ‘punks.png.1’ saved [848174/848174]\n",
      "\n"
     ]
    }
   ],
   "source": [
    "!wget https://www.larvalabs.com/public/images/cryptopunks/punks.png"
   ]
  },
  {
   "cell_type": "code",
   "execution_count": 2,
   "metadata": {},
   "outputs": [],
   "source": [
    "import cv2\n",
    "import os\n",
    "import numpy as np\n",
    "import random\n",
    "from matplotlib import pyplot as plt\n"
   ]
  },
  {
   "cell_type": "code",
   "execution_count": 3,
   "metadata": {},
   "outputs": [],
   "source": [
    "def overlay_transparent(background_img, img_to_overlay_t, x, y, overlay_size=None):\n",
    "    \"\"\"\n",
    "    @brief      Overlays a transparant PNG onto another image using CV2\n",
    "    \n",
    "    @param      background_img    The background image\n",
    "    @param      img_to_overlay_t  The transparent image to overlay (has alpha channel)\n",
    "    @param      x                 x location to place the top-left corner of our overlay\n",
    "    @param      y                 y location to place the top-left corner of our overlay\n",
    "    @param      overlay_size      The size to scale our overlay to (tuple), no scaling if None\n",
    "    \n",
    "    @return     Background image with overlay on top\n",
    "    \"\"\"\n",
    "    \n",
    "    bg_img = background_img.copy()\n",
    "    \n",
    "    if overlay_size is not None:\n",
    "        img_to_overlay_t = cv2.resize(img_to_overlay_t.copy(), overlay_size)\n",
    "\n",
    "    # Extract the alpha mask of the RGBA image, convert to RGB \n",
    "    b,g,r,a = cv2.split(img_to_overlay_t)\n",
    "    overlay_color = cv2.merge((b,g,r))\n",
    " \n",
    "    # Blend\n",
    "    mask = cv2.medianBlur(a,1)\n",
    "    \n",
    "    h, w, _ = overlay_color.shape\n",
    "    roi = bg_img[y:y+h, x:x+w]\n",
    "\n",
    "    # Black-out the area behind the logo in our original ROI\n",
    "    img1_bg = cv2.bitwise_and(roi.copy(),roi.copy(),mask = cv2.bitwise_not(mask))\n",
    "    \n",
    "    # Mask out the logo from the logo image.\n",
    "    img2_fg = cv2.bitwise_and(overlay_color,overlay_color,mask = mask)\n",
    "\n",
    "    # Update the original image with our new ROI\n",
    "    bg_img[y:y+h, x:x+w] = cv2.add(img1_bg, img2_fg)\n",
    "\n",
    "    return bg_img\n"
   ]
  },
  {
   "cell_type": "code",
   "execution_count": 4,
   "metadata": {},
   "outputs": [],
   "source": [
    "\n",
    "def cp_index(index):\n",
    "    x = index % 100 *24\n",
    "    #print(x)\n",
    "    y = index // 100 *24\n",
    "    #print(y)\n",
    "    return x,y\n",
    "\n",
    "def get_cp_by_index(index, width=24, height=24):\n",
    "    x,y = cp_index(index)\n",
    "    #print(x,y)\n",
    "    xpos = x \n",
    "    ypos = y \n",
    "    img = all_img[ypos:ypos+width,xpos:xpos+height]\n",
    "    return img\n",
    "\n",
    "def cp_backg(img, color=None, x=24,y=24):\n",
    "    colors = {}\n",
    "    colors['blue'] = [95,133,149]\n",
    "    colors['purple'] = [145,11,179]\n",
    "    colors['green'] = [92,166,116]\n",
    "    colors['brown'] = [154,85,80]\n",
    "    background = np.arange(y*x*3, dtype='uint8').reshape(y,x,3)\n",
    "    if color is not None:\n",
    "        background[:] = colors.get(color)\n",
    "    else:\n",
    "        background[:] = random.choice(list(colors.values()))\n",
    "    #print('background ', background.shape)\n",
    "    img = overlay_transparent(background, img, 0, 0,(x,y))\n",
    "    return img\n",
    "\n",
    "def write_cp(index):\n",
    "    img = get_cp_by_index(index)\n",
    "    folder = 'images/original/'\n",
    "    if not os.path.exists(folder):\n",
    "        os.makedirs(folder)\n",
    "    cv2.imwrite(folder + \"crypto_punk-{:05d}.png\".format(i), img)\n",
    "    folder = 'images/256/'\n",
    "    if not os.path.exists(folder):\n",
    "        os.makedirs(folder)\n",
    "    img_256 = cv2.resize(img,(256,256), interpolation = cv2.INTER_NEAREST)\n",
    "    cv2.imwrite(folder + \"crypto_punk-256-{:05d}.png\".format(i), img_256)\n",
    "    #img_512 = cv2.resize(img,(512,512), interpolation = cv2.INTER_NEAREST)\n",
    "    #cv2.imwrite(\"images/512/crypto_punk-512-{:05d}.png\".format(i), img_512)"
   ]
  },
  {
   "cell_type": "code",
   "execution_count": 5,
   "metadata": {},
   "outputs": [
    {
     "name": "stdout",
     "output_type": "stream",
     "text": [
      "(2400, 2400, 4)\n"
     ]
    }
   ],
   "source": [
    "img_name = 'punks.png'\n",
    "all_img = cv2.imread(img_name, cv2.IMREAD_UNCHANGED)\n",
    "print(all_img.shape)"
   ]
  },
  {
   "cell_type": "code",
   "execution_count": 6,
   "metadata": {},
   "outputs": [],
   "source": [
    "n = 10000\n",
    "# use 10000 for all\n",
    "n = 100\n",
    "\n",
    "for i in range(n):\n",
    "    write_cp(i)"
   ]
  },
  {
   "cell_type": "code",
   "execution_count": 7,
   "metadata": {},
   "outputs": [
    {
     "data": {
      "text/plain": [
       "<matplotlib.image.AxesImage at 0x7f8314909e50>"
      ]
     },
     "execution_count": 7,
     "metadata": {},
     "output_type": "execute_result"
    },
    {
     "data": {
      "image/png": "[encoded data removed]",
      "text/plain": [
       "<Figure size 432x288 with 1 Axes>"
      ]
     },
     "metadata": {
      "needs_background": "light"
     },
     "output_type": "display_data"
    }
   ],
   "source": [
    "index = 1532\n",
    "\n",
    "img = get_cp_by_index(index)\n",
    "img = cv2.cvtColor(img, cv2.COLOR_BGRA2RGBA)\n",
    "img = cp_backg(img, 'blue')\n",
    "\n",
    "plt.imshow(img)"
   ]
  },
  {
   "cell_type": "code",
   "execution_count": 8,
   "metadata": {},
   "outputs": [
    {
     "data": {
      "text/plain": [
       "<matplotlib.image.AxesImage at 0x7f831408e820>"
      ]
     },
     "execution_count": 8,
     "metadata": {},
     "output_type": "execute_result"
    },
    {
     "data": {
      "image/png": "[encoded data removed]",
      "text/plain": [
       "<Figure size 432x288 with 1 Axes>"
      ]
     },
     "metadata": {
      "needs_background": "light"
     },
     "output_type": "display_data"
    }
   ],
   "source": [
    "index = 6057\n",
    "\n",
    "img = get_cp_by_index(index)\n",
    "img = cv2.cvtColor(img, cv2.COLOR_BGRA2RGBA)\n",
    "img = cp_backg(img)\n",
    "\n",
    "plt.imshow(img)\n"
   ]
  },
  {
   "cell_type": "code",
   "execution_count": 9,
   "metadata": {},
   "outputs": [
    {
     "data": {
      "text/plain": [
       "<matplotlib.image.AxesImage at 0x7f8314062a90>"
      ]
     },
     "execution_count": 9,
     "metadata": {},
     "output_type": "execute_result"
    },
    {
     "data": {
      "image/png": "[encoded data removed]",
      "text/plain": [
       "<Figure size 432x288 with 1 Axes>"
      ]
     },
     "metadata": {
      "needs_background": "light"
     },
     "output_type": "display_data"
    }
   ],
   "source": [
    "index = 3120\n",
    "\n",
    "img = get_cp_by_index(index)\n",
    "img = cv2.cvtColor(img, cv2.COLOR_BGRA2RGBA)\n",
    "img = cp_backg(img)\n",
    "\n",
    "plt.imshow(img)"
   ]
  },
  {
   "cell_type": "code",
   "execution_count": 10,
   "metadata": {},
   "outputs": [
    {
     "data": {
      "text/plain": [
       "<matplotlib.image.AxesImage at 0x7f8314036d90>"
      ]
     },
     "execution_count": 10,
     "metadata": {},
     "output_type": "execute_result"
    },
    {
     "data": {
      "image/png": "[encoded data removed]",
      "text/plain": [
       "<Figure size 432x288 with 1 Axes>"
      ]
     },
     "metadata": {
      "needs_background": "light"
     },
     "output_type": "display_data"
    }
   ],
   "source": [
    "index = int(random.random() * 10000)\n",
    "\n",
    "img = get_cp_by_index(index)\n",
    "img = cv2.cvtColor(img, cv2.COLOR_BGRA2RGBA)\n",
    "img = cp_backg(img)\n",
    "\n",
    "plt.imshow(img)"
   ]
  },
  {
   "cell_type": "code",
   "execution_count": null,
   "metadata": {},
   "outputs": [],
   "source": []
  }
 ],
 "metadata": {
  "kernelspec": {
   "display_name": "Python 3",
   "language": "python",
   "name": "python3"
  },
  "language_info": {
   "codemirror_mode": {
    "name": "ipython",
    "version": 3
   },
   "file_extension": ".py",
   "mimetype": "text/x-python",
   "name": "python",
   "nbconvert_exporter": "python",
   "pygments_lexer": "ipython3",
   "version": "3.8.3"
  }
 },
 "nbformat": 4,
 "nbformat_minor": 4
}
