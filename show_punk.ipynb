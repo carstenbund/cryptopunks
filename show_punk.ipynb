{
 "cells": [
  {
   "cell_type": "code",
   "execution_count": 1,
   "metadata": {},
   "outputs": [],
   "source": [
    "#!wget https://www.larvalabs.com/public/images/cryptopunks/punks.png"
   ]
  },
  {
   "cell_type": "code",
   "execution_count": 2,
   "metadata": {},
   "outputs": [],
   "source": [
    "import cv2\n",
    "import sys\n",
    "import numpy as np\n",
    "import random\n",
    "from matplotlib import pyplot as plt\n"
   ]
  },
  {
   "cell_type": "code",
   "execution_count": 3,
   "metadata": {},
   "outputs": [],
   "source": [
    "def overlay_transparent(background_img, img_to_overlay_t, x, y, overlay_size=None):\n",
    "    \"\"\"\n",
    "    @brief      Overlays a transparant PNG onto another image using CV2\n",
    "    \n",
    "    @param      background_img    The background image\n",
    "    @param      img_to_overlay_t  The transparent image to overlay (has alpha channel)\n",
    "    @param      x                 x location to place the top-left corner of our overlay\n",
    "    @param      y                 y location to place the top-left corner of our overlay\n",
    "    @param      overlay_size      The size to scale our overlay to (tuple), no scaling if None\n",
    "    \n",
    "    @return     Background image with overlay on top\n",
    "    \"\"\"\n",
    "    \n",
    "    bg_img = background_img.copy()\n",
    "    \n",
    "    if overlay_size is not None:\n",
    "        img_to_overlay_t = cv2.resize(img_to_overlay_t.copy(), overlay_size)\n",
    "\n",
    "    # Extract the alpha mask of the RGBA image, convert to RGB \n",
    "    b,g,r,a = cv2.split(img_to_overlay_t)\n",
    "    overlay_color = cv2.merge((b,g,r))\n",
    " \n",
    "    # Blend\n",
    "    mask = cv2.medianBlur(a,1)\n",
    "    \n",
    "    h, w, _ = overlay_color.shape\n",
    "    roi = bg_img[y:y+h, x:x+w]\n",
    "\n",
    "    # Black-out the area behind the logo in our original ROI\n",
    "    img1_bg = cv2.bitwise_and(roi.copy(),roi.copy(),mask = cv2.bitwise_not(mask))\n",
    "    \n",
    "    # Mask out the logo from the logo image.\n",
    "    img2_fg = cv2.bitwise_and(overlay_color,overlay_color,mask = mask)\n",
    "\n",
    "    # Update the original image with our new ROI\n",
    "    bg_img[y:y+h, x:x+w] = cv2.add(img1_bg, img2_fg)\n",
    "\n",
    "    return bg_img\n"
   ]
  },
  {
   "cell_type": "code",
   "execution_count": 10,
   "metadata": {},
   "outputs": [],
   "source": [
    "\n",
    "def write_out():\n",
    "    for i in range(10000):\n",
    "        #print(img_arr[i].shape)\n",
    "        cv2.imwrite(\"images/original/crypto_punk-{:05d}.png\".format(i), img_arr[i])\n",
    "        img_256 = cv2.resize(img_arr[i],(256,256), interpolation = cv2.INTER_NEAREST)\n",
    "        #cv2.imwrite(\"images/256/crypto_punk-256-{:05d}.png\".format(i), img_256)\n",
    "        #img_512 = cv2.resize(img_arr[i],(512,512), interpolation = cv2.INTER_NEAREST)\n",
    "        #cv2.imwrite(\"images/512/crypto_punk-512-{:05d}.png\".format(i), img_512)\n",
    "\n",
    "#write_out()\n",
    "\n",
    "def cp_index(index):\n",
    "    x = index % 100 *24\n",
    "    #print(x)\n",
    "    y = index // 100 *24\n",
    "    #print(y)\n",
    "    return x,y\n",
    "\n",
    "def get_cp_by_index(index, width=24, height=24):\n",
    "    x,y = cp_index(index)\n",
    "    #print(x,y)\n",
    "    xpos = x \n",
    "    ypos = y \n",
    "    img = all_img[ypos:ypos+width,xpos:xpos+height]\n",
    "    return img\n",
    "\n",
    "def cp_backg(img, color=None, x=24,y=24):\n",
    "    colors = {}\n",
    "    colors['blue'] = [95,133,149]\n",
    "    colors['purple'] = [145,11,179]\n",
    "    colors['green'] = [92,166,116]\n",
    "    colors['brown'] = [154,85,80]\n",
    "    background = np.arange(y*x*3, dtype='uint8').reshape(y,x,3)\n",
    "    if color is not None:\n",
    "        background[:] = colors.get(color)\n",
    "    else:\n",
    "        background[:] = random.choice(list(colors.values()))\n",
    "    #print('background ', background.shape)\n",
    "    img = overlay_transparent(background, img, 0, 0,(x,y))\n",
    "    return img"
   ]
  },
  {
   "cell_type": "code",
   "execution_count": null,
   "metadata": {},
   "outputs": [],
   "source": [
    "img_name = 'punks.png'\n",
    "all_img = cv2.imread(img_name, cv2.IMREAD_UNCHANGED)\n",
    "print(all_img.shape)"
   ]
  },
  {
   "cell_type": "code",
   "execution_count": 11,
   "metadata": {},
   "outputs": [
    {
     "data": {
      "text/plain": [
       "<matplotlib.image.AxesImage at 0x7f02a5d64280>"
      ]
     },
     "execution_count": 11,
     "metadata": {},
     "output_type": "execute_result"
    },
    {
     "data": {
      "image/png": "[encoded data removed]",
      "text/plain": [
       "<Figure size 432x288 with 1 Axes>"
      ]
     },
     "metadata": {
      "needs_background": "light"
     },
     "output_type": "display_data"
    }
   ],
   "source": [
    "index = 1532\n",
    "\n",
    "img = get_cp_by_index(index)\n",
    "img = cv2.cvtColor(img, cv2.COLOR_BGRA2RGBA)\n",
    "img = cp_backg(img, 'blue')\n",
    "\n",
    "plt.imshow(img)"
   ]
  },
  {
   "cell_type": "code",
   "execution_count": 12,
   "metadata": {},
   "outputs": [
    {
     "data": {
      "text/plain": [
       "<matplotlib.image.AxesImage at 0x7f02a5d35250>"
      ]
     },
     "execution_count": 12,
     "metadata": {},
     "output_type": "execute_result"
    },
    {
     "data": {
      "image/png": "[encoded data removed]",
      "text/plain": [
       "<Figure size 432x288 with 1 Axes>"
      ]
     },
     "metadata": {
      "needs_background": "light"
     },
     "output_type": "display_data"
    }
   ],
   "source": [
    "index = 6057\n",
    "\n",
    "img = get_cp_by_index(index)\n",
    "img = cv2.cvtColor(img, cv2.COLOR_BGRA2RGBA)\n",
    "img = cp_backg(img)\n",
    "\n",
    "plt.imshow(img)\n"
   ]
  },
  {
   "cell_type": "code",
   "execution_count": 9,
   "metadata": {},
   "outputs": [
    {
     "data": {
      "text/plain": [
       "<matplotlib.image.AxesImage at 0x7f02a5df6f40>"
      ]
     },
     "execution_count": 9,
     "metadata": {},
     "output_type": "execute_result"
    },
    {
     "data": {
      "image/png": "[encoded data removed]",
      "text/plain": [
       "<Figure size 432x288 with 1 Axes>"
      ]
     },
     "metadata": {
      "needs_background": "light"
     },
     "output_type": "display_data"
    }
   ],
   "source": [
    "index = 3120\n",
    "\n",
    "img = get_cp_by_index(index)\n",
    "img = cv2.cvtColor(img, cv2.COLOR_BGRA2RGBA)\n",
    "img = cp_backg(img)\n",
    "\n",
    "plt.imshow(img)\n"
   ]
  },
  {
   "cell_type": "code",
   "execution_count": null,
   "metadata": {},
   "outputs": [],
   "source": []
  }
 ],
 "metadata": {
  "kernelspec": {
   "display_name": "Python 3",
   "language": "python",
   "name": "python3"
  },
  "language_info": {
   "codemirror_mode": {
    "name": "ipython",
    "version": 3
   },
   "file_extension": ".py",
   "mimetype": "text/x-python",
   "name": "python",
   "nbconvert_exporter": "python",
   "pygments_lexer": "ipython3",
   "version": "3.8.3"
  }
 },
 "nbformat": 4,
 "nbformat_minor": 4
}
