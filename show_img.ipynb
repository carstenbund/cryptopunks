{
 "cells": [
  {
   "cell_type": "code",
   "execution_count": 1,
   "metadata": {},
   "outputs": [
    {
     "name": "stdout",
     "output_type": "stream",
     "text": [
      "--2021-01-17 10:34:39--  https://www.larvalabs.com/public/images/cryptopunks/punks.png\n",
      "Resolving www.larvalabs.com (www.larvalabs.com)... 172.67.190.245, 104.21.60.26, 2606:4700:3037::ac43:bef5, ...\n",
      "Connecting to www.larvalabs.com (www.larvalabs.com)|172.67.190.245|:443... connected.\n",
      "HTTP request sent, awaiting response... 200 OK\n",
      "Length: 848174 (828K) [image/png]\n",
      "Saving to: ‘punks.png’\n",
      "\n",
      "punks.png           100%[===================>] 828.29K  42.2KB/s    in 21s     \n",
      "\n",
      "2021-01-17 10:35:00 (39.8 KB/s) - ‘punks.png’ saved [848174/848174]\n",
      "\n"
     ]
    }
   ],
   "source": [
    "!wget https://www.larvalabs.com/public/images/cryptopunks/punks.png"
   ]
  },
  {
   "cell_type": "code",
   "execution_count": 2,
   "metadata": {},
   "outputs": [],
   "source": [
    "import cv2\n",
    "import sys\n",
    "import numpy as np\n",
    "import random\n",
    "from matplotlib import pyplot as plt\n"
   ]
  },
  {
   "cell_type": "code",
   "execution_count": 3,
   "metadata": {},
   "outputs": [],
   "source": [
    "def overlay_transparent(background_img, img_to_overlay_t, x, y, overlay_size=None):\n",
    "    \"\"\"\n",
    "    @brief      Overlays a transparant PNG onto another image using CV2\n",
    "    \n",
    "    @param      background_img    The background image\n",
    "    @param      img_to_overlay_t  The transparent image to overlay (has alpha channel)\n",
    "    @param      x                 x location to place the top-left corner of our overlay\n",
    "    @param      y                 y location to place the top-left corner of our overlay\n",
    "    @param      overlay_size      The size to scale our overlay to (tuple), no scaling if None\n",
    "    \n",
    "    @return     Background image with overlay on top\n",
    "    \"\"\"\n",
    "    \n",
    "    bg_img = background_img.copy()\n",
    "    \n",
    "    if overlay_size is not None:\n",
    "        img_to_overlay_t = cv2.resize(img_to_overlay_t.copy(), overlay_size)\n",
    "\n",
    "    # Extract the alpha mask of the RGBA image, convert to RGB \n",
    "    b,g,r,a = cv2.split(img_to_overlay_t)\n",
    "    overlay_color = cv2.merge((b,g,r))\n",
    "    \n",
    "    \n",
    "    mask = cv2.medianBlur(a,1)\n",
    "    \n",
    "    h, w, _ = overlay_color.shape\n",
    "    roi = bg_img[y:y+h, x:x+w]\n",
    "\n",
    "    # Black-out the area behind the logo in our original ROI\n",
    "    img1_bg = cv2.bitwise_and(roi.copy(),roi.copy(),mask = cv2.bitwise_not(mask))\n",
    "    \n",
    "    # Mask out the logo from the logo image.\n",
    "    img2_fg = cv2.bitwise_and(overlay_color,overlay_color,mask = mask)\n",
    "\n",
    "    # Update the original image with our new ROI\n",
    "    bg_img[y:y+h, x:x+w] = cv2.add(img1_bg, img2_fg)\n",
    "\n",
    "    return bg_img\n"
   ]
  },
  {
   "cell_type": "code",
   "execution_count": 4,
   "metadata": {},
   "outputs": [
    {
     "name": "stdout",
     "output_type": "stream",
     "text": [
      "(2400, 2400, 4)\n"
     ]
    }
   ],
   "source": [
    "img_name = 'punks.png'\n",
    "all_img = cv2.imread(img_name, cv2.IMREAD_UNCHANGED)\n",
    "print(all_img.shape)\n",
    "img_arr = {}"
   ]
  },
  {
   "cell_type": "code",
   "execution_count": 5,
   "metadata": {
    "scrolled": true
   },
   "outputs": [
    {
     "name": "stdout",
     "output_type": "stream",
     "text": [
      "pos  768 360\n"
     ]
    }
   ],
   "source": [
    "width = 24\n",
    "height = 24\n",
    "colors = {}\n",
    "colors['blue'] = [95,133,149]\n",
    "colors['purple'] = [145,11,179]\n",
    "colors['green'] = [92,166,116]\n",
    "colors['brown'] = [154,85,80]\n",
    "\n",
    "#print(colors)\n",
    "\n",
    "i=0\n",
    "for i in range(100):\n",
    "    ypos = i * height\n",
    "    #print('x', xpos)\n",
    "    for n in range(100):\n",
    "        xpos = n * width\n",
    "        #print('xpos ', xpos)\n",
    "        #print('ypos' , ypos)\n",
    "        img_arr[i*100+n] = all_img[ypos:ypos+width,xpos:xpos+height]\n",
    "        if i*100+n == 1532:\n",
    "            print('pos ',xpos,ypos)\n",
    "        #print(img_arr[i*100+n].shape)\n",
    "        #print(all_img[ypos:ypos+width,xpos:xpos+height].shape)"
   ]
  },
  {
   "cell_type": "code",
   "execution_count": 6,
   "metadata": {},
   "outputs": [],
   "source": [
    "\n",
    "def write_out():\n",
    "    for i in range(10000):\n",
    "        #print(img_arr[i].shape)\n",
    "        cv2.imwrite(\"images/original/crypto_punk-{:05d}.png\".format(i), img_arr[i])\n",
    "        img_256 = cv2.resize(img_arr[i],(256,256), interpolation = cv2.INTER_NEAREST)\n",
    "        #cv2.imwrite(\"images/256/crypto_punk-256-{:05d}.png\".format(i), img_256)\n",
    "        #img_512 = cv2.resize(img_arr[i],(512,512), interpolation = cv2.INTER_NEAREST)\n",
    "        #cv2.imwrite(\"images/512/crypto_punk-512-{:05d}.png\".format(i), img_512)\n",
    "\n",
    "#write_out()\n",
    "\n",
    "def cp_index(index):\n",
    "    x = index % 100 *24\n",
    "    #print(x)\n",
    "    y = index // 100 *24\n",
    "    #print(y)\n",
    "    return x,y\n",
    "\n",
    "def get_cp_by_index(index, width=24, height=24):\n",
    "    x,y = cp_index(index)\n",
    "    #print(x,y)\n",
    "    xpos = x \n",
    "    ypos = y \n",
    "    img = all_img[ypos:ypos+width,xpos:xpos+height]\n",
    "    return img\n",
    "\n",
    "def cp_backg(img, color=None):\n",
    "    background = np.arange(y*x*3, dtype='uint8').reshape(y,x,3)\n",
    "    if color is not None:\n",
    "        background[:] = colors.get(color)\n",
    "    else:\n",
    "        background[:] = random.choice(list(colors.values()))\n",
    "    #print('background ', background.shape)\n",
    "    img = overlay_transparent(background, img, 0, 0,(x,y))\n",
    "    return img"
   ]
  },
  {
   "cell_type": "code",
   "execution_count": 7,
   "metadata": {},
   "outputs": [
    {
     "ename": "NameError",
     "evalue": "name 'y' is not defined",
     "output_type": "error",
     "traceback": [
      "\u001b[0;31m---------------------------------------------------------------------------\u001b[0m",
      "\u001b[0;31mNameError\u001b[0m                                 Traceback (most recent call last)",
      "\u001b[0;32m<ipython-input-7-ec6d0e662b66>\u001b[0m in \u001b[0;36m<module>\u001b[0;34m\u001b[0m\n\u001b[1;32m      2\u001b[0m \u001b[0;34m\u001b[0m\u001b[0m\n\u001b[1;32m      3\u001b[0m \u001b[0mimg\u001b[0m \u001b[0;34m=\u001b[0m \u001b[0mcv2\u001b[0m\u001b[0;34m.\u001b[0m\u001b[0mcvtColor\u001b[0m\u001b[0;34m(\u001b[0m\u001b[0mimg_arr\u001b[0m\u001b[0;34m[\u001b[0m\u001b[0mindex\u001b[0m\u001b[0;34m]\u001b[0m\u001b[0;34m,\u001b[0m \u001b[0mcv2\u001b[0m\u001b[0;34m.\u001b[0m\u001b[0mCOLOR_BGRA2RGBA\u001b[0m\u001b[0;34m)\u001b[0m\u001b[0;34m\u001b[0m\u001b[0;34m\u001b[0m\u001b[0m\n\u001b[0;32m----> 4\u001b[0;31m \u001b[0mimg\u001b[0m \u001b[0;34m=\u001b[0m \u001b[0mcp_backg\u001b[0m\u001b[0;34m(\u001b[0m\u001b[0mimg\u001b[0m\u001b[0;34m,\u001b[0m \u001b[0;34m'blue'\u001b[0m\u001b[0;34m)\u001b[0m\u001b[0;34m\u001b[0m\u001b[0;34m\u001b[0m\u001b[0m\n\u001b[0m\u001b[1;32m      5\u001b[0m \u001b[0;34m\u001b[0m\u001b[0m\n\u001b[1;32m      6\u001b[0m \u001b[0mplt\u001b[0m\u001b[0;34m.\u001b[0m\u001b[0mimshow\u001b[0m\u001b[0;34m(\u001b[0m\u001b[0mimg\u001b[0m\u001b[0;34m)\u001b[0m\u001b[0;34m\u001b[0m\u001b[0;34m\u001b[0m\u001b[0m\n",
      "\u001b[0;32m<ipython-input-6-b0aec4f20100>\u001b[0m in \u001b[0;36mcp_backg\u001b[0;34m(img, color)\u001b[0m\n\u001b[1;32m     26\u001b[0m \u001b[0;34m\u001b[0m\u001b[0m\n\u001b[1;32m     27\u001b[0m \u001b[0;32mdef\u001b[0m \u001b[0mcp_backg\u001b[0m\u001b[0;34m(\u001b[0m\u001b[0mimg\u001b[0m\u001b[0;34m,\u001b[0m \u001b[0mcolor\u001b[0m\u001b[0;34m=\u001b[0m\u001b[0;32mNone\u001b[0m\u001b[0;34m)\u001b[0m\u001b[0;34m:\u001b[0m\u001b[0;34m\u001b[0m\u001b[0;34m\u001b[0m\u001b[0m\n\u001b[0;32m---> 28\u001b[0;31m     \u001b[0mbackground\u001b[0m \u001b[0;34m=\u001b[0m \u001b[0mnp\u001b[0m\u001b[0;34m.\u001b[0m\u001b[0marange\u001b[0m\u001b[0;34m(\u001b[0m\u001b[0my\u001b[0m\u001b[0;34m*\u001b[0m\u001b[0mx\u001b[0m\u001b[0;34m*\u001b[0m\u001b[0;36m3\u001b[0m\u001b[0;34m,\u001b[0m \u001b[0mdtype\u001b[0m\u001b[0;34m=\u001b[0m\u001b[0;34m'uint8'\u001b[0m\u001b[0;34m)\u001b[0m\u001b[0;34m.\u001b[0m\u001b[0mreshape\u001b[0m\u001b[0;34m(\u001b[0m\u001b[0my\u001b[0m\u001b[0;34m,\u001b[0m\u001b[0mx\u001b[0m\u001b[0;34m,\u001b[0m\u001b[0;36m3\u001b[0m\u001b[0;34m)\u001b[0m\u001b[0;34m\u001b[0m\u001b[0;34m\u001b[0m\u001b[0m\n\u001b[0m\u001b[1;32m     29\u001b[0m     \u001b[0;32mif\u001b[0m \u001b[0mcolor\u001b[0m \u001b[0;32mis\u001b[0m \u001b[0;32mnot\u001b[0m \u001b[0;32mNone\u001b[0m\u001b[0;34m:\u001b[0m\u001b[0;34m\u001b[0m\u001b[0;34m\u001b[0m\u001b[0m\n\u001b[1;32m     30\u001b[0m         \u001b[0mbackground\u001b[0m\u001b[0;34m[\u001b[0m\u001b[0;34m:\u001b[0m\u001b[0;34m]\u001b[0m \u001b[0;34m=\u001b[0m \u001b[0mcolors\u001b[0m\u001b[0;34m.\u001b[0m\u001b[0mget\u001b[0m\u001b[0;34m(\u001b[0m\u001b[0mcolor\u001b[0m\u001b[0;34m)\u001b[0m\u001b[0;34m\u001b[0m\u001b[0;34m\u001b[0m\u001b[0m\n",
      "\u001b[0;31mNameError\u001b[0m: name 'y' is not defined"
     ]
    }
   ],
   "source": [
    "index = 1532\n",
    "\n",
    "img = cv2.cvtColor(img_arr[index], cv2.COLOR_BGRA2RGBA)\n",
    "img = cp_backg(img, 'blue')\n",
    "\n",
    "plt.imshow(img)"
   ]
  },
  {
   "cell_type": "code",
   "execution_count": null,
   "metadata": {},
   "outputs": [],
   "source": [
    "index = 6057\n",
    "index = 3120\n",
    "\n",
    "img = get_cp_by_index(index)\n",
    "img = cv2.cvtColor(img_arr[index], cv2.COLOR_BGRA2RGBA)\n",
    "img = cp_backg(img)\n",
    "\n",
    "plt.imshow(img)\n"
   ]
  },
  {
   "cell_type": "code",
   "execution_count": null,
   "metadata": {},
   "outputs": [],
   "source": []
  }
 ],
 "metadata": {
  "kernelspec": {
   "display_name": "Python 3",
   "language": "python",
   "name": "python3"
  },
  "language_info": {
   "codemirror_mode": {
    "name": "ipython",
    "version": 3
   },
   "file_extension": ".py",
   "mimetype": "text/x-python",
   "name": "python",
   "nbconvert_exporter": "python",
   "pygments_lexer": "ipython3",
   "version": "3.8.3"
  }
 },
 "nbformat": 4,
 "nbformat_minor": 4
}
